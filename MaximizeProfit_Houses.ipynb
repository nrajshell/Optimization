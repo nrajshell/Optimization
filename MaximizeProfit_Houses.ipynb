{
 "cells": [
  {
   "cell_type": "code",
   "execution_count": 1,
   "id": "4e86ebe3",
   "metadata": {},
   "outputs": [],
   "source": [
    "from pyomo.environ import *"
   ]
  },
  {
   "cell_type": "code",
   "execution_count": 2,
   "id": "9168c7fb",
   "metadata": {},
   "outputs": [],
   "source": [
    "model = AbstractModel()\n",
    "model.cost1 = Param(initialize=300000, mutable=True)\n",
    "model.cost2 = Param(initialize=500000, mutable=True)\n",
    "model.cost3 = Param(initialize=750000, mutable=True)\n",
    "model.x1 = Var(initialize=1, domain=NonNegativeIntegers)\n",
    "model.x2 = Var(initialize=1, domain=NonNegativeIntegers)\n",
    "model.x3 = Var(initialize=1, domain=NonNegativeIntegers)"
   ]
  },
  {
   "cell_type": "code",
   "execution_count": 3,
   "id": "159defbb",
   "metadata": {},
   "outputs": [],
   "source": [
    "def rule1(model):\n",
    "    return model.cost1*model.x1 + model.cost2*model.x2 + model.cost3*model.x3 <= 175000000\n",
    "\n",
    "model.eq1 = Constraint(expr=rule1)\n",
    "\n",
    "def rule2(model):\n",
    "    return model.x1 >= 0.25*(model.x1+model.x2+model.x3)\n",
    "\n",
    "model.eq2 = Constraint(expr=rule2)\n",
    "\n",
    "\n",
    "def rule3(model):\n",
    "    return model.x2 >= 0.25*(model.x1+model.x2+model.x3)\n",
    "\n",
    "model.eq3 = Constraint(expr=rule3)\n",
    "\n",
    "def rule4(model):\n",
    "    return model.x3 >= 0.2*(model.x1+model.x2+model.x3)\n",
    "\n",
    "model.eq4 = Constraint(expr=rule4)\n",
    "\n",
    "def rule5(model):\n",
    "    return model.x1+model.x2+model.x3 <= 405\n",
    "\n",
    "model.eq5 = Constraint(expr=rule5)   "
   ]
  },
  {
   "cell_type": "code",
   "execution_count": 4,
   "id": "74e684b4",
   "metadata": {},
   "outputs": [],
   "source": [
    "def rule_obj(model):\n",
    "    return model.cost1*model.x1+model.cost2*model.x2+model.cost3*model.x3\n",
    "\n",
    "model.obj = Objective(expr=rule_obj, sense=maximize)"
   ]
  },
  {
   "cell_type": "code",
   "execution_count": 5,
   "id": "a712336e",
   "metadata": {},
   "outputs": [],
   "source": [
    "opt = SolverFactory('glpk')\n",
    "instance = model.create_instance()\n",
    "results = opt.solve(instance)"
   ]
  },
  {
   "cell_type": "code",
   "execution_count": 6,
   "id": "95d03d55",
   "metadata": {},
   "outputs": [
    {
     "name": "stdout",
     "output_type": "stream",
     "text": [
      "80.0 77.0 150.0\n",
      "24000000.0 38500000.0 112500000.0\n",
      "175000000.0\n",
      "17500000.0\n"
     ]
    }
   ],
   "source": [
    "print(value(instance.x1), value(instance.x2), value(instance.x3))\n",
    "print(value(instance.x1)*value(instance.cost1), value(instance.x2)*value(instance.cost2), value(instance.x3)*value(instance.cost3))\n",
    "print(value(instance.x1)*value(instance.cost1)+value(instance.x2)*value(instance.cost2)+value(instance.x3)*value(instance.cost3))\n",
    "totalcost = value(instance.x1)*value(instance.cost1)+value(instance.x2)*value(instance.cost2)+value(instance.x3)*value(instance.cost3)\n",
    "print(totalcost*0.1)"
   ]
  },
  {
   "cell_type": "code",
   "execution_count": 7,
   "id": "e486a63b",
   "metadata": {},
   "outputs": [
    {
     "name": "stdout",
     "output_type": "stream",
     "text": [
      "\n",
      "Problem: \n",
      "- Name: unknown\n",
      "  Lower bound: 175000000.0\n",
      "  Upper bound: 175000000.0\n",
      "  Number of objectives: 1\n",
      "  Number of constraints: 6\n",
      "  Number of variables: 4\n",
      "  Number of nonzeros: 16\n",
      "  Sense: maximize\n",
      "Solver: \n",
      "- Status: ok\n",
      "  Termination condition: optimal\n",
      "  Statistics: \n",
      "    Branch and bound: \n",
      "      Number of bounded subproblems: 5\n",
      "      Number of created subproblems: 5\n",
      "  Error rc: 0\n",
      "  Time: 0.0553586483001709\n",
      "Solution: \n",
      "- number of solutions: 0\n",
      "  number of solutions displayed: 0\n",
      "\n"
     ]
    }
   ],
   "source": [
    "print(results)"
   ]
  },
  {
   "cell_type": "code",
   "execution_count": 8,
   "id": "b3ba8701",
   "metadata": {},
   "outputs": [
    {
     "name": "stdout",
     "output_type": "stream",
     "text": [
      "eq1 : Size=1, Index=None, Active=True\n",
      "    Key  : Lower : Body                           : Upper       : Active\n",
      "    None :  -Inf : cost1*x1 + cost2*x2 + cost3*x3 : 175000000.0 :   True\n",
      "eq2 : Size=1, Index=None, Active=True\n",
      "    Key  : Lower : Body                     : Upper : Active\n",
      "    None :  -Inf : 0.25*(x1 + x2 + x3) - x1 :   0.0 :   True\n",
      "eq3 : Size=1, Index=None, Active=True\n",
      "    Key  : Lower : Body                     : Upper : Active\n",
      "    None :  -Inf : 0.25*(x1 + x2 + x3) - x2 :   0.0 :   True\n",
      "eq4 : Size=1, Index=None, Active=True\n",
      "    Key  : Lower : Body                    : Upper : Active\n",
      "    None :  -Inf : 0.2*(x1 + x2 + x3) - x3 :   0.0 :   True\n",
      "eq5 : Size=1, Index=None, Active=True\n",
      "    Key  : Lower : Body         : Upper : Active\n",
      "    None :  -Inf : x1 + x2 + x3 : 405.0 :   True\n"
     ]
    }
   ],
   "source": [
    "instance.eq1.pprint()\n",
    "instance.eq2.pprint()\n",
    "instance.eq3.pprint()\n",
    "instance.eq4.pprint()\n",
    "instance.eq5.pprint()"
   ]
  },
  {
   "cell_type": "code",
   "execution_count": null,
   "id": "0aae4af5",
   "metadata": {},
   "outputs": [],
   "source": []
  }
 ],
 "metadata": {
  "kernelspec": {
   "display_name": "Python 3 (ipykernel)",
   "language": "python",
   "name": "python3"
  },
  "language_info": {
   "codemirror_mode": {
    "name": "ipython",
    "version": 3
   },
   "file_extension": ".py",
   "mimetype": "text/x-python",
   "name": "python",
   "nbconvert_exporter": "python",
   "pygments_lexer": "ipython3",
   "version": "3.10.4"
  }
 },
 "nbformat": 4,
 "nbformat_minor": 5
}
